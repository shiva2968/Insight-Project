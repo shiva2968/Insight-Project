{
 "cells": [
  {
   "cell_type": "code",
   "execution_count": 43,
   "metadata": {},
   "outputs": [],
   "source": [
    "import re\n",
    "import numpy as np \n",
    "import pandas as pd \n",
    "import spacy\n",
    "from keras.preprocessing.text import Tokenizer \n",
    "from keras.preprocessing.sequence import pad_sequences"
   ]
  },
  {
   "cell_type": "markdown",
   "metadata": {},
   "source": [
    "## Creating the dataframe"
   ]
  },
  {
   "cell_type": "code",
   "execution_count": 44,
   "metadata": {},
   "outputs": [],
   "source": [
    "bbc_df = pd.read_csv('New_Data/bbc.csv', encoding='iso-8859-1')\n",
    "news_df = pd.read_csv('New_Data/mixed.csv', encoding='iso-8859-1')\n",
    "news_large_df = pd.read_csv('New_Data/mixed_large.csv', encoding='iso-8859-1')\n"
   ]
  },
  {
   "cell_type": "code",
   "execution_count": 45,
   "metadata": {},
   "outputs": [],
   "source": [
    "bbc_df = bbc_df.drop(columns=['Unnamed: 0']).rename(columns={'row_article': 'text'})\n",
    "news_df = news_df.drop(columns=['author', 'date', 'headlines', 'read_more']).rename(columns=\n",
    "                                                                          {'text': 'summary', 'ctext': 'text'})\n",
    "news_large_df = news_large_df.rename(columns={'headlines': 'summary'})\n"
   ]
  },
  {
   "cell_type": "code",
   "execution_count": 46,
   "metadata": {},
   "outputs": [],
   "source": [
    "data = news_large_df.append(news_df, ignore_index=True, sort=False)\n",
    "data = data.append(bbc_df, ignore_index=True, sort=False)\n"
   ]
  },
  {
   "cell_type": "code",
   "execution_count": 47,
   "metadata": {},
   "outputs": [],
   "source": [
    "data = data.iloc[:5000,:]"
   ]
  },
  {
   "cell_type": "code",
   "execution_count": 48,
   "metadata": {},
   "outputs": [
    {
     "name": "stdout",
     "output_type": "stream",
     "text": [
      "<class 'pandas.core.frame.DataFrame'>\n",
      "RangeIndex: 5000 entries, 0 to 4999\n",
      "Data columns (total 2 columns):\n",
      " #   Column   Non-Null Count  Dtype \n",
      "---  ------   --------------  ----- \n",
      " 0   summary  5000 non-null   object\n",
      " 1   text     5000 non-null   object\n",
      "dtypes: object(2)\n",
      "memory usage: 78.2+ KB\n"
     ]
    }
   ],
   "source": [
    "data.info()"
   ]
  },
  {
   "cell_type": "markdown",
   "metadata": {},
   "source": [
    "## Cleaning the data"
   ]
  },
  {
   "cell_type": "code",
   "execution_count": 49,
   "metadata": {},
   "outputs": [],
   "source": [
    "def cleantext(column):\n",
    "    for row in column:\n",
    "        row=re.sub(\"(\\\\t)\", ' ', str(row)).lower() \n",
    "        row=re.sub(\"(\\\\r)\", ' ', str(row)).lower() \n",
    "        row=re.sub(\"(\\\\n)\", ' ', str(row)).lower() \n",
    "        row=re.sub(\"(__+)\", ' ', str(row)).lower()   \n",
    "        row=re.sub(\"(--+)\", ' ', str(row)).lower()   \n",
    "        row=re.sub(\"(~~+)\", ' ', str(row)).lower()   \n",
    "        row=re.sub(\"(\\+\\++)\", ' ', str(row)).lower()   \n",
    "        row=re.sub(\"(\\.\\.+)\", ' ', str(row)).lower()   \n",
    "        row=re.sub(r\"[<>()|&©ø\\[\\]\\'\\\",;?~*!]\", ' ', str(row)).lower()  \n",
    "        row=re.sub(\"(mailto:)\", ' ', str(row)).lower() \n",
    "        row=re.sub(r\"(\\\\x9\\d)\", ' ', str(row)).lower() \n",
    "        row=re.sub(\"([iI][nN][cC]\\d+)\", 'INC_NUM', str(row)).lower() \n",
    "        row=re.sub(\"([cC][mM]\\d+)|([cC][hH][gG]\\d+)\", 'CM_NUM', str(row)).lower() \n",
    "        row=re.sub(\"(\\.\\s+)\", ' ', str(row)).lower() \n",
    "        row=re.sub(\"(\\-\\s+)\", ' ', str(row)).lower() \n",
    "        row=re.sub(\"(\\:\\s+)\", ' ', str(row)).lower() \n",
    "        row=re.sub(\"(\\s+.\\s+)\", ' ', str(row)).lower() \n",
    "        try:\n",
    "            url = re.search(r'((https*:\\/*)([^\\/\\s]+))(.[^\\s]+)', str(row))\n",
    "            repl_url = url.group(3)\n",
    "            row = re.sub(r'((https*:\\/*)([^\\/\\s]+))(.[^\\s]+)',repl_url, str(row))\n",
    "        except:\n",
    "            pass \n",
    "\n",
    "        row = re.sub(\"(\\s+)\",' ',str(row)).lower()       \n",
    "        row=re.sub(\"(\\s+.\\s+)\", ' ', str(row)).lower() \n",
    "    \n",
    "        yield row\n"
   ]
  },
  {
   "cell_type": "code",
   "execution_count": 50,
   "metadata": {},
   "outputs": [],
   "source": [
    "nlp = spacy.load('en', disable=['ner', 'parser']) \n",
    "text = [str(doc) for doc in nlp.pipe(cleantext(data.text), batch_size=5000, n_threads=-1)]\n",
    "summary = ['_START_ '+ str(doc) + ' _END_' for doc in nlp.pipe(cleantext(data.summary), \n",
    "                                                               batch_size=5000, n_threads=-1)]"
   ]
  },
  {
   "cell_type": "markdown",
   "metadata": {},
   "source": [
    "## New dataframe"
   ]
  },
  {
   "cell_type": "code",
   "execution_count": 51,
   "metadata": {},
   "outputs": [],
   "source": [
    "max_text_len = 100\n",
    "max_summary_len = 15"
   ]
  },
  {
   "cell_type": "code",
   "execution_count": 52,
   "metadata": {},
   "outputs": [],
   "source": [
    "cleaned_text = np.array(data.text)\n",
    "cleaned_summary = np.array(data.summary)\n",
    "\n",
    "short_text = []\n",
    "short_summary = []\n",
    "\n",
    "for i in range(len(cleaned_text)):\n",
    "    if(len(cleaned_summary[i].split()) <= max_summary_len and len(cleaned_text[i].split()) <= max_text_len):\n",
    "        short_text.append(cleaned_text[i])\n",
    "        short_summary.append(cleaned_summary[i])\n",
    "        \n",
    "new_data = pd.DataFrame({'text':short_text, 'summary':short_summary})"
   ]
  },
  {
   "cell_type": "code",
   "execution_count": 53,
   "metadata": {},
   "outputs": [
    {
     "data": {
      "text/plain": [
       "'sostok Delhi techie wins free food from Swiggy for one year on CRED eostok'"
      ]
     },
     "execution_count": 53,
     "metadata": {},
     "output_type": "execute_result"
    }
   ],
   "source": [
    "new_data.summary = new_data.summary.apply(lambda x : 'sostok '+ x + ' eostok')\n",
    "new_data.summary[1]"
   ]
  },
  {
   "cell_type": "markdown",
   "metadata": {},
   "source": [
    "## Model"
   ]
  },
  {
   "cell_type": "code",
   "execution_count": 57,
   "metadata": {},
   "outputs": [],
   "source": [
    "from keras import backend as K \n",
    "import gensim\n",
    "from numpy import *\n",
    "import numpy as np\n",
    "import pandas as pd \n",
    "import re\n",
    "from bs4 import BeautifulSoup\n",
    "from sklearn.model_selection import train_test_split\n",
    "from keras.preprocessing.text import Tokenizer \n",
    "from keras.preprocessing.sequence import pad_sequences\n",
    "from nltk.corpus import stopwords\n",
    "from tensorflow.keras.layers import Input, LSTM, Embedding, Dense, Concatenate, TimeDistributed\n",
    "from tensorflow.keras.models import Model\n",
    "from tensorflow.keras.callbacks import EarlyStopping\n",
    "import warnings\n"
   ]
  },
  {
   "cell_type": "code",
   "execution_count": 63,
   "metadata": {},
   "outputs": [],
   "source": [
    "x_tr, x_tst, y_tr, y_tst = train_test_split(np.array(new_data.text), np.array(new_data.summary),\n",
    "                                         test_size=0.2, random_state=12, shuffle=True)"
   ]
  },
  {
   "cell_type": "code",
   "execution_count": 64,
   "metadata": {},
   "outputs": [],
   "source": [
    "x_tokenizer = Tokenizer() \n",
    "x_tokenizer.fit_on_texts(list(x_tr))\n"
   ]
  },
  {
   "cell_type": "code",
   "execution_count": 65,
   "metadata": {},
   "outputs": [
    {
     "name": "stdout",
     "output_type": "stream",
     "text": [
      "size of X vocab6439\n"
     ]
    }
   ],
   "source": [
    "thresh = 4\n",
    "cnt = 0\n",
    "tot_cnt = 0\n",
    "freq = 0\n",
    "tot_freq = 0\n",
    "for key, value in x_tokenizer.word_counts.items():\n",
    "    tot_cnt = tot_cnt + 1\n",
    "    tot_freq = tot_freq + value\n",
    "    if(value < thresh):\n",
    "        cnt = cnt + 1\n",
    "        freq = freq + value\n",
    "\n",
    "x_tokenizer = Tokenizer(num_words=tot_cnt-cnt) \n",
    "x_tokenizer.fit_on_texts(list(x_tr))\n",
    "x_tr_seq = x_tokenizer.texts_to_sequences(x_tr) \n",
    "x_tst_seq = x_tokenizer.texts_to_sequences(x_tst)\n",
    "x_tr = pad_sequences(x_tr_seq,  maxlen=max_text_len, padding='post')\n",
    "x_tst = pad_sequences(x_tst_seq, maxlen=max_text_len, padding='post')\n",
    "x_voc = x_tokenizer.num_words + 1\n",
    "print(\"size of X vocab{}\".format(x_voc))\n"
   ]
  },
  {
   "cell_type": "code",
   "execution_count": 66,
   "metadata": {},
   "outputs": [],
   "source": [
    "y_tokenizer = Tokenizer()   \n",
    "y_tokenizer.fit_on_texts(list(y_tr))"
   ]
  },
  {
   "cell_type": "code",
   "execution_count": 67,
   "metadata": {},
   "outputs": [
    {
     "name": "stdout",
     "output_type": "stream",
     "text": [
      "Size of Y vocab1324\n"
     ]
    }
   ],
   "source": [
    "thresh = 6\n",
    "cnt = 0\n",
    "tot_cnt = 0\n",
    "freq = 0\n",
    "tot_freq = 0\n",
    "for key, value in y_tokenizer.word_counts.items():\n",
    "    tot_cnt = tot_cnt+1\n",
    "    tot_freq = tot_freq+value\n",
    "    if(value < thresh):\n",
    "        cnt = cnt + 1\n",
    "        freq =freq + value\n",
    "\n",
    "y_tokenizer = Tokenizer(num_words=tot_cnt-cnt) \n",
    "y_tokenizer.fit_on_texts(list(y_tr))\n",
    "y_tr_seq = y_tokenizer.texts_to_sequences(y_tr) \n",
    "y_tst_seq = y_tokenizer.texts_to_sequences(y_tst) \n",
    "y_tr = pad_sequences(y_tr_seq, maxlen=max_summary_len, padding='post')\n",
    "y_tst = pad_sequences(y_tst_seq, maxlen=max_summary_len, padding='post')\n",
    "y_voc  =   y_tokenizer.num_words +1\n",
    "print(\"Size of Y vocab{}\".format(y_voc))\n"
   ]
  },
  {
   "cell_type": "code",
   "execution_count": 68,
   "metadata": {},
   "outputs": [],
   "source": [
    "ind = []\n",
    "for i in range(len(y_tr)):\n",
    "    cnt = 0\n",
    "    for j in y_tr[i]:\n",
    "        if j != 0:\n",
    "            cnt = cnt + 1\n",
    "    if(cnt==2):\n",
    "        ind.append(i)\n",
    "\n",
    "y_tr = np.delete(y_tr, ind, axis=0)\n",
    "x_tr = np.delete(x_tr, ind, axis=0)"
   ]
  },
  {
   "cell_type": "code",
   "execution_count": 69,
   "metadata": {},
   "outputs": [],
   "source": [
    "ind =[]\n",
    "for i in range(len(y_tst)):\n",
    "    cnt=0\n",
    "    for j in y_tst[i]:\n",
    "        if j != 0:\n",
    "            cnt = cnt + 1\n",
    "    if(cnt==2):\n",
    "        ind.append(i)\n",
    "\n",
    "y_tst = np.delete(y_tst,ind, axis=0)\n",
    "x_tst = np.delete(x_tst,ind, axis=0)"
   ]
  },
  {
   "cell_type": "code",
   "execution_count": 70,
   "metadata": {},
   "outputs": [
    {
     "name": "stdout",
     "output_type": "stream",
     "text": [
      "Model: \"model\"\n",
      "__________________________________________________________________________________________________\n",
      "Layer (type)                    Output Shape         Param #     Connected to                     \n",
      "==================================================================================================\n",
      "input_1 (InputLayer)            [(None, 100)]        0                                            \n",
      "__________________________________________________________________________________________________\n",
      "embedding (Embedding)           (None, 100, 200)     1287800     input_1[0][0]                    \n",
      "__________________________________________________________________________________________________\n",
      "lstm (LSTM)                     [(None, 100, 300), ( 601200      embedding[0][0]                  \n",
      "__________________________________________________________________________________________________\n",
      "input_2 (InputLayer)            [(None, None)]       0                                            \n",
      "__________________________________________________________________________________________________\n",
      "lstm_1 (LSTM)                   [(None, 100, 300), ( 721200      lstm[0][0]                       \n",
      "__________________________________________________________________________________________________\n",
      "embedding_1 (Embedding)         (None, None, 200)    264800      input_2[0][0]                    \n",
      "__________________________________________________________________________________________________\n",
      "lstm_2 (LSTM)                   [(None, 100, 300), ( 721200      lstm_1[0][0]                     \n",
      "__________________________________________________________________________________________________\n",
      "lstm_3 (LSTM)                   [(None, None, 300),  601200      embedding_1[0][0]                \n",
      "                                                                 lstm_2[0][1]                     \n",
      "                                                                 lstm_2[0][2]                     \n",
      "__________________________________________________________________________________________________\n",
      "time_distributed (TimeDistribut (None, None, 1324)   398524      lstm_3[0][0]                     \n",
      "==================================================================================================\n",
      "Total params: 4,595,924\n",
      "Trainable params: 4,595,924\n",
      "Non-trainable params: 0\n",
      "__________________________________________________________________________________________________\n"
     ]
    }
   ],
   "source": [
    "K.clear_session()\n",
    "\n",
    "latent_dim = 300\n",
    "embedding_dim = 200\n",
    "\n",
    "encoder_inputs = Input(shape=(max_text_len,))\n",
    "enc_emb =  Embedding(x_voc, embedding_dim, trainable=True)(encoder_inputs)\n",
    "\n",
    "encoder_lstm1 = LSTM(latent_dim,return_sequences=True, return_state=True, dropout=0.4, recurrent_dropout=0.4)\n",
    "encoder_output1, state_h1, state_c1 = encoder_lstm1(enc_emb)\n",
    "\n",
    "encoder_lstm2 = LSTM(latent_dim, return_sequences=True, return_state=True, dropout=0.4, recurrent_dropout=0.4)\n",
    "encoder_output2, state_h2, state_c2 = encoder_lstm2(encoder_output1)\n",
    "\n",
    "encoder_lstm3 = LSTM(latent_dim, return_state=True, return_sequences=True,dropout=0.4,recurrent_dropout=0.4)\n",
    "encoder_outputs, state_h, state_c = encoder_lstm3(encoder_output2)\n",
    "\n",
    "decoder_inputs = Input(shape=(None,))\n",
    "\n",
    "dec_emb_layer = Embedding(y_voc, embedding_dim,trainable=True)\n",
    "dec_emb = dec_emb_layer(decoder_inputs)\n",
    "\n",
    "decoder_lstm = LSTM(latent_dim, return_sequences=True, return_state=True,dropout=0.4,recurrent_dropout=0.2)\n",
    "decoder_outputs,decoder_fwd_state, decoder_back_state = decoder_lstm(dec_emb,initial_state=[state_h, state_c])\n",
    "\n",
    "decoder_dense =  TimeDistributed(Dense(y_voc, activation='softmax'))\n",
    "decoder_outputs = decoder_dense(decoder_outputs)\n",
    "\n",
    "model = Model([encoder_inputs, decoder_inputs], decoder_outputs)\n",
    "model.summary()\n"
   ]
  },
  {
   "cell_type": "code",
   "execution_count": 71,
   "metadata": {},
   "outputs": [],
   "source": [
    "model.compile(optimizer='rmsprop', loss='sparse_categorical_crossentropy')\n"
   ]
  },
  {
   "cell_type": "code",
   "execution_count": 72,
   "metadata": {},
   "outputs": [],
   "source": [
    "es = EarlyStopping(monitor='val_loss', mode='min', verbose=1, patience=2)\n"
   ]
  },
  {
   "cell_type": "markdown",
   "metadata": {},
   "source": [
    "## Fitting the data"
   ]
  },
  {
   "cell_type": "code",
   "execution_count": 73,
   "metadata": {},
   "outputs": [
    {
     "name": "stdout",
     "output_type": "stream",
     "text": [
      "Train on 3995 samples, validate on 999 samples\n",
      "Epoch 1/50\n",
      "3995/3995 [==============================] - 383s 96ms/sample - loss: 4.0810 - val_loss: 3.4906\n",
      "Epoch 2/50\n",
      "3995/3995 [==============================] - 381s 95ms/sample - loss: 3.4823 - val_loss: 3.1928\n",
      "Epoch 3/50\n",
      "3995/3995 [==============================] - 401s 100ms/sample - loss: 3.3604 - val_loss: 3.1374\n",
      "Epoch 4/50\n",
      "3995/3995 [==============================] - 477s 119ms/sample - loss: 3.3644 - val_loss: 3.1152\n",
      "Epoch 5/50\n",
      "3995/3995 [==============================] - 406s 102ms/sample - loss: 3.2881 - val_loss: 3.1213\n",
      "Epoch 6/50\n",
      "3995/3995 [==============================] - 386s 97ms/sample - loss: 3.2540 - val_loss: 3.0780\n",
      "Epoch 7/50\n",
      "3995/3995 [==============================] - 386s 97ms/sample - loss: 3.2227 - val_loss: 3.0656\n",
      "Epoch 8/50\n",
      "3995/3995 [==============================] - 385s 96ms/sample - loss: 3.1879 - val_loss: 3.0516\n",
      "Epoch 9/50\n",
      "3995/3995 [==============================] - 384s 96ms/sample - loss: 3.1540 - val_loss: 3.0453\n",
      "Epoch 10/50\n",
      "3995/3995 [==============================] - 376s 94ms/sample - loss: 3.1225 - val_loss: 3.0066\n",
      "Epoch 11/50\n",
      "3995/3995 [==============================] - 377s 94ms/sample - loss: 3.0934 - val_loss: 2.9958\n",
      "Epoch 12/50\n",
      "3995/3995 [==============================] - 375s 94ms/sample - loss: 3.0614 - val_loss: 2.9940\n",
      "Epoch 13/50\n",
      "3995/3995 [==============================] - 376s 94ms/sample - loss: 3.0342 - val_loss: 2.9649\n",
      "Epoch 14/50\n",
      "3995/3995 [==============================] - 377s 94ms/sample - loss: 3.0028 - val_loss: 2.9490\n",
      "Epoch 15/50\n",
      "3995/3995 [==============================] - 377s 94ms/sample - loss: 2.9750 - val_loss: 2.9565\n",
      "Epoch 16/50\n",
      "3995/3995 [==============================] - 395s 99ms/sample - loss: 2.9400 - val_loss: 2.9352\n",
      "Epoch 17/50\n",
      "3995/3995 [==============================] - 385s 96ms/sample - loss: 2.9114 - val_loss: 2.9199\n",
      "Epoch 18/50\n",
      "3995/3995 [==============================] - 376s 94ms/sample - loss: 2.8795 - val_loss: 2.9109\n",
      "Epoch 19/50\n",
      "3995/3995 [==============================] - 375s 94ms/sample - loss: 2.8506 - val_loss: 2.9057\n",
      "Epoch 20/50\n",
      "3995/3995 [==============================] - 378s 95ms/sample - loss: 2.8221 - val_loss: 2.9063\n",
      "Epoch 21/50\n",
      "3995/3995 [==============================] - 376s 94ms/sample - loss: 2.7902 - val_loss: 2.8970\n",
      "Epoch 22/50\n",
      "3995/3995 [==============================] - 376s 94ms/sample - loss: 2.7624 - val_loss: 2.8677\n",
      "Epoch 23/50\n",
      "3995/3995 [==============================] - 376s 94ms/sample - loss: 2.7328 - val_loss: 2.8636\n",
      "Epoch 24/50\n",
      "3995/3995 [==============================] - 380s 95ms/sample - loss: 2.7019 - val_loss: 2.8606\n",
      "Epoch 25/50\n",
      "3995/3995 [==============================] - 376s 94ms/sample - loss: 2.6722 - val_loss: 2.8678\n",
      "Epoch 26/50\n",
      "3995/3995 [==============================] - 378s 95ms/sample - loss: 2.6447 - val_loss: 2.8626\n",
      "Epoch 00026: early stopping\n"
     ]
    }
   ],
   "source": [
    "history = model.fit([x_tr,y_tr[:,:-1]], y_tr.reshape(y_tr.shape[0], y_tr.shape[1], 1)[:,1:],\n",
    "                    epochs=50, callbacks=[es], batch_size=128, \n",
    "                    validation_data=([x_tst, y_tst[:,:-1]],\n",
    "                                       y_tst.reshape(y_tst.shape[0], y_tst.shape[1], 1)[:,1:]))"
   ]
  },
  {
   "cell_type": "code",
   "execution_count": 74,
   "metadata": {},
   "outputs": [
    {
     "data": {
      "image/png": "[encoded data removed]",
      "text/plain": [
       "<Figure size 432x288 with 1 Axes>"
      ]
     },
     "metadata": {
      "needs_background": "light"
     },
     "output_type": "display_data"
    }
   ],
   "source": [
    "from matplotlib import pyplot\n",
    "pyplot.plot(history.history['loss'], label = 'train')\n",
    "pyplot.plot(history.history['val_loss'], label = 'test')\n",
    "pyplot.legend()\n",
    "pyplot.show()"
   ]
  },
  {
   "cell_type": "code",
   "execution_count": 75,
   "metadata": {},
   "outputs": [],
   "source": [
    "reverse_target_word_index = y_tokenizer.index_word\n",
    "reverse_source_word_index = x_tokenizer.index_word\n",
    "target_word_index = y_tokenizer.word_index"
   ]
  },
  {
   "cell_type": "code",
   "execution_count": 76,
   "metadata": {},
   "outputs": [],
   "source": [
    "# Encode the input sequence to get the feature vector\n",
    "encoder_model = Model(inputs=encoder_inputs, outputs=[encoder_outputs, state_h, state_c])\n",
    "\n",
    "# Decoder setup\n",
    "# Below tensors will hold the states of the previous time step\n",
    "decoder_state_input_h = Input(shape=(latent_dim,))\n",
    "decoder_state_input_c = Input(shape=(latent_dim,))\n",
    "decoder_hidden_state_input = Input(shape=(max_text_len,latent_dim))\n",
    "\n",
    "# Get the embeddings of the decoder sequence\n",
    "dec_emb2 = dec_emb_layer(decoder_inputs) \n",
    "# To predict the next word in the sequence, set the initial states to the states from the previous time step\n",
    "decoder_outputs2, state_h2, state_c2 = decoder_lstm(dec_emb2, initial_state=[decoder_state_input_h, \n",
    "                                                                             decoder_state_input_c])\n",
    "\n",
    "# A dense softmax layer to generate prob dist. over the target vocabulary\n",
    "decoder_outputs2 = decoder_dense(decoder_outputs2) \n",
    "\n",
    "# Final decoder model\n",
    "decoder_model = Model(\n",
    "    [decoder_inputs] + [decoder_hidden_state_input,decoder_state_input_h, decoder_state_input_c],\n",
    "    [decoder_outputs2] + [state_h2, state_c2])"
   ]
  },
  {
   "cell_type": "code",
   "execution_count": 77,
   "metadata": {},
   "outputs": [],
   "source": [
    "def decode_sequence(input_seq):\n",
    "    # Encode the input as state vectors.\n",
    "    e_out, e_h, e_c = encoder_model.predict(input_seq)\n",
    "    \n",
    "    # Generate empty target sequence of length 1.\n",
    "    target_seq = np.zeros((1,1))\n",
    "    \n",
    "    # Populate the first word of target sequence with the start word.\n",
    "    target_seq[0, 0] = target_word_index['sostok']\n",
    "\n",
    "    stop_condition = False\n",
    "    decoded_sentence = ''\n",
    "    while not stop_condition:\n",
    "      \n",
    "        output_tokens, h, c = decoder_model.predict([target_seq] + [e_out, e_h, e_c])\n",
    "\n",
    "        # Sample a token\n",
    "        sampled_token_index = np.argmax(output_tokens[0, -1, :])\n",
    "        sampled_token = reverse_target_word_index[sampled_token_index]\n",
    "        \n",
    "        if(sampled_token!='eostok'):\n",
    "            decoded_sentence += ' '+sampled_token\n",
    "\n",
    "        # Exit condition: either hit max length or find stop word.\n",
    "        if (sampled_token == 'eostok'  or len(decoded_sentence.split()) >= (max_summary_len-1)):\n",
    "            stop_condition = True\n",
    "\n",
    "        # Update the target sequence (of length 1).\n",
    "        target_seq = np.zeros((1,1))\n",
    "        target_seq[0, 0] = sampled_token_index\n",
    "\n",
    "        # Update internal states\n",
    "        e_h, e_c = h, c\n",
    "\n",
    "    return decoded_sentence"
   ]
  },
  {
   "cell_type": "code",
   "execution_count": 78,
   "metadata": {},
   "outputs": [],
   "source": [
    "def seq2summary(input_seq):\n",
    "    newString=''\n",
    "    for i in input_seq:\n",
    "        if((i!=0 and i!=target_word_index['sostok']) and i!=target_word_index['eostok']):\n",
    "            newString = newString + reverse_target_word_index[i] + ' '\n",
    "    return newString\n",
    "\n",
    "def seq2text(input_seq):\n",
    "    newString = ''\n",
    "    for i in input_seq:\n",
    "        if(i!=0):\n",
    "            newString = newString + reverse_source_word_index[i] + ' '\n",
    "    return newString"
   ]
  },
  {
   "cell_type": "code",
   "execution_count": 5,
   "metadata": {},
   "outputs": [],
   "source": [
    "# for i in range(0,10):\n",
    "#     print(\"Review:\",seq2text(x_tst[i]))\n",
    "#     print(\"Original summary:\",seq2summary(y_tr[i]))\n",
    "#     print(\"Predicted summary:\",decode_sequence(x_tr[i].reshape(1,max_text_len)))\n",
    "#     print(\"\\n\")"
   ]
  },
  {
   "cell_type": "markdown",
   "metadata": {},
   "source": [
    "## Testing the model"
   ]
  },
  {
   "cell_type": "code",
   "execution_count": 163,
   "metadata": {},
   "outputs": [],
   "source": [
    "sample_test = \n",
    "\"\"\" \n",
    "We know the problem with these accounts should be resolved now and we apologise for inconvenience.\"\"\""
   ]
  },
  {
   "cell_type": "code",
   "execution_count": 164,
   "metadata": {},
   "outputs": [
    {
     "data": {
      "text/plain": [
       "100"
      ]
     },
     "execution_count": 164,
     "metadata": {},
     "output_type": "execute_result"
    }
   ],
   "source": [
    "len(sample_test)"
   ]
  },
  {
   "cell_type": "code",
   "execution_count": 165,
   "metadata": {},
   "outputs": [],
   "source": [
    "x_tokenizer.fit_on_texts(sample_test)\n",
    "x_val_seq = x_tokenizer.texts_to_sequences(sample_test)\n",
    "x_val = pad_sequences(x_val_seq, padding='post')\n",
    "x_val = np.reshape(x_val,(x_val.size,))"
   ]
  },
  {
   "cell_type": "code",
   "execution_count": 167,
   "metadata": {},
   "outputs": [
    {
     "data": {
      "text/plain": [
       "array([ 0,  4,  1,  0, 20,  3,  2,  4,  0, 10, 11,  1,  0, 14, 12,  2, 15,\n",
       "        5,  1, 16,  0,  4,  6, 10, 11,  0, 17, 16,  7,  6,  5,  0,  7,  8,\n",
       "        8,  2, 18,  3, 10,  9,  0,  9, 11,  2, 18,  5, 13,  0, 15,  1,  0,\n",
       "       12,  1,  9,  2,  5, 19,  1, 13,  0,  3,  2,  4,  0,  7,  3, 13,  0,\n",
       "        4,  1,  0,  7, 14,  2,  5,  2, 17,  6,  9,  1,  0, 21,  2, 12,  0,\n",
       "        6,  3,  8,  2,  3, 19,  1,  3,  6,  1,  3,  8,  1,  0,  0])"
      ]
     },
     "execution_count": 167,
     "metadata": {},
     "output_type": "execute_result"
    }
   ],
   "source": [
    "x_val"
   ]
  },
  {
   "cell_type": "code",
   "execution_count": 171,
   "metadata": {},
   "outputs": [
    {
     "data": {
      "text/plain": [
       "(100,)"
      ]
     },
     "execution_count": 171,
     "metadata": {},
     "output_type": "execute_result"
    }
   ],
   "source": [
    "x_val.shape"
   ]
  },
  {
   "cell_type": "code",
   "execution_count": 173,
   "metadata": {},
   "outputs": [
    {
     "data": {
      "text/plain": [
       "' man who to get in up'"
      ]
     },
     "execution_count": 173,
     "metadata": {},
     "output_type": "execute_result"
    }
   ],
   "source": [
    "decode_sequence(x_val.reshape(1,max_text_len))"
   ]
  }
 ],
 "metadata": {
  "kernelspec": {
   "display_name": "Python 3",
   "language": "python",
   "name": "python3"
  },
  "language_info": {
   "codemirror_mode": {
    "name": "ipython",
    "version": 3
   },
   "file_extension": ".py",
   "mimetype": "text/x-python",
   "name": "python",
   "nbconvert_exporter": "python",
   "pygments_lexer": "ipython3",
   "version": "3.7.7"
  }
 },
 "nbformat": 4,
 "nbformat_minor": 4
}
